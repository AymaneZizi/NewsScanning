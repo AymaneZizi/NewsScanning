{
 "cells": [
  {
   "cell_type": "code",
   "execution_count": 1,
   "metadata": {},
   "outputs": [
    {
     "ename": "ModuleNotFoundError",
     "evalue": "No module named 'watson_developer_cloud'",
     "output_type": "error",
     "traceback": [
      "\u001b[1;31m---------------------------------------------------------------------------\u001b[0m",
      "\u001b[1;31mModuleNotFoundError\u001b[0m                       Traceback (most recent call last)",
      "\u001b[1;32m<ipython-input-1-32c6737bab45>\u001b[0m in \u001b[0;36m<module>\u001b[1;34m\u001b[0m\n\u001b[0;32m      1\u001b[0m \u001b[1;32mimport\u001b[0m \u001b[0mjson\u001b[0m\u001b[1;33m\u001b[0m\u001b[1;33m\u001b[0m\u001b[0m\n\u001b[1;32m----> 2\u001b[1;33m \u001b[1;32mfrom\u001b[0m \u001b[0mwatson_developer_cloud\u001b[0m \u001b[1;32mimport\u001b[0m \u001b[0mNaturalLanguageUnderstandingV1\u001b[0m\u001b[1;33m\u001b[0m\u001b[1;33m\u001b[0m\u001b[0m\n\u001b[0m\u001b[0;32m      3\u001b[0m \u001b[1;32mfrom\u001b[0m \u001b[0mwatson_developer_cloud\u001b[0m\u001b[1;33m.\u001b[0m\u001b[0mnatural_language_understanding_v1\u001b[0m\u001b[0;31m \u001b[0m\u001b[0;31m\\\u001b[0m\u001b[1;33m\u001b[0m\u001b[1;33m\u001b[0m\u001b[0m\n\u001b[0;32m      4\u001b[0m   \u001b[1;32mimport\u001b[0m \u001b[0mFeatures\u001b[0m\u001b[1;33m,\u001b[0m \u001b[0mEmotionOptions\u001b[0m\u001b[1;33m,\u001b[0m  \u001b[0mCategoriesOptions\u001b[0m\u001b[1;33m,\u001b[0m \u001b[0mConceptsOptions\u001b[0m\u001b[1;33m,\u001b[0m \u001b[0mEntitiesOptions\u001b[0m\u001b[1;33m,\u001b[0m \u001b[0mKeywordsOptions\u001b[0m\u001b[1;33m,\u001b[0m \u001b[0mMetadataOptions\u001b[0m\u001b[1;33m\u001b[0m\u001b[1;33m\u001b[0m\u001b[0m\n\u001b[0;32m      5\u001b[0m \u001b[1;33m\u001b[0m\u001b[0m\n",
      "\u001b[1;31mModuleNotFoundError\u001b[0m: No module named 'watson_developer_cloud'"
     ]
    }
   ],
   "source": [
    "import json\n",
    "from watson_developer_cloud import NaturalLanguageUnderstandingV1\n",
    "from watson_developer_cloud.natural_language_understanding_v1 \\\n",
    "  import Features, EmotionOptions,  CategoriesOptions, ConceptsOptions, EntitiesOptions, KeywordsOptions, MetadataOptions\n",
    "\n",
    "natural_language_understanding = NaturalLanguageUnderstandingV1(\n",
    "  username='50b362f6-6ef7-4bd6-8696-5981245ffe24',\n",
    "  password='VS4M0eK3MWh5',\n",
    "  version='2018-03-16')\n",
    "\n",
    "test_url = 'http://calgaryherald.com/news/politics/braid-last-ditch-pipeline-talks-bring-threat-of-quick-oil-squeeze'\n",
    "#test_url = 'https://www.ledroit.com/actualites/ottawa/14-millions--de-plus-a-oc-transpo-473c4469be246adf3a523d67b4a67232'\n",
    "\n",
    "#6 features\n",
    "response = natural_language_understanding.analyze(\n",
    "  url=test_url,\n",
    "  features=Features(\n",
    "      emotion=EmotionOptions(),\n",
    "      categories=CategoriesOptions(),\n",
    "      concepts=ConceptsOptions(limit=3),\n",
    "      entities=EntitiesOptions(\n",
    "          emotion=True,\n",
    "          sentiment=True,\n",
    "          limit=2),\n",
    "      keywords=KeywordsOptions(\n",
    "          emotion=True,\n",
    "          sentiment=True,\n",
    "          limit=2),\n",
    "      metadata=MetadataOptions()\n",
    "      ))\n",
    "\n",
    "print(json.dumps(response, indent=2))"
   ]
  }
 ],
 "metadata": {
  "kernelspec": {
   "display_name": "Python 3",
   "language": "python",
   "name": "python3"
  },
  "language_info": {
   "codemirror_mode": {
    "name": "ipython",
    "version": 3
   },
   "file_extension": ".py",
   "mimetype": "text/x-python",
   "name": "python",
   "nbconvert_exporter": "python",
   "pygments_lexer": "ipython3",
   "version": "3.7.3"
  }
 },
 "nbformat": 4,
 "nbformat_minor": 2
}
